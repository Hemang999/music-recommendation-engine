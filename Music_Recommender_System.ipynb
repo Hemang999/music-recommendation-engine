{
  "nbformat": 4,
  "nbformat_minor": 0,
  "metadata": {
    "colab": {
      "name": "Music Recommender System.ipynb",
      "provenance": [],
      "collapsed_sections": [],
      "machine_shape": "hm"
    },
    "kernelspec": {
      "name": "python3",
      "display_name": "Python 3"
    }
  },
  "cells": [
    {
      "cell_type": "code",
      "metadata": {
        "id": "Id0nHfqKPeHi"
      },
      "source": [
        "!pip install lightfm"
      ],
      "execution_count": null,
      "outputs": []
    },
    {
      "cell_type": "code",
      "metadata": {
        "id": "BBjCABJuOqX8"
      },
      "source": [
        "import warnings\r\n",
        "import numpy as np\r\n",
        "import pandas as pd\r\n",
        "import seaborn as sns\r\n",
        "from scipy import sparse as sp\r\n",
        "from matplotlib import pyplot as plt\r\n",
        "\r\n",
        "from lightfm import LightFM\r\n",
        "from sklearn.metrics import pairwise as pw\r\n",
        "from lightfm.evaluation import precision_at_k, recall_at_k, auc_score, reciprocal_rank\r\n",
        "\r\n",
        "sns.set()\r\n",
        "warnings.filterwarnings('ignore')\r\n",
        "\r\n",
        "%matplotlib inline"
      ],
      "execution_count": 35,
      "outputs": []
    },
    {
      "cell_type": "code",
      "metadata": {
        "id": "tLUQTFQCWfO4"
      },
      "source": [
        "# Comment the following lines if working on a white background\r\n",
        "plt.rcParams['text.color'] = 'white'\r\n",
        "plt.rcParams['axes.labelcolor'] = 'white'\r\n",
        "plt.rcParams['xtick.color'] = 'white'\r\n",
        "plt.rcParams['ytick.color'] = 'white'"
      ],
      "execution_count": 2,
      "outputs": []
    },
    {
      "cell_type": "code",
      "metadata": {
        "id": "9nrQtpRKPcBG"
      },
      "source": [
        "pd.set_option('display.max_columns', None)\r\n",
        "pd.set_option('display.max_rows', None)"
      ],
      "execution_count": 3,
      "outputs": []
    },
    {
      "cell_type": "markdown",
      "metadata": {
        "id": "J4wPYMsXQG4G"
      },
      "source": [
        "## Classes and UDFs"
      ]
    },
    {
      "cell_type": "markdown",
      "metadata": {
        "id": "zKv3VoVeS4s7"
      },
      "source": [
        "#### Useful functions for detailed data inspection"
      ]
    },
    {
      "cell_type": "code",
      "metadata": {
        "id": "of4r0RIJoqJs"
      },
      "source": [
        "# Create Data audit Report for continuous variables\n",
        "def cont_summary(x):\n",
        "    return pd.Series([x.count(), x.isnull().sum(), x.sum(), x.mean(), x.median(),  \n",
        "                      x.std(), x.var(), x.min(), x.quantile(0.01), x.quantile(0.05),\n",
        "                          x.quantile(0.10),x.quantile(0.25),x.quantile(0.50),x.quantile(0.75), \n",
        "                              x.quantile(0.90),x.quantile(0.95), x.quantile(0.99),x.max()], \n",
        "                  index = ['N', 'NMISS', 'SUM', 'MEAN','MEDIAN', 'STD', 'VAR', 'MIN', 'P1', \n",
        "                               'P5' ,'P10' ,'P25' ,'P50' ,'P75' ,'P90' ,'P95' ,'P99' ,'MAX'])"
      ],
      "execution_count": 4,
      "outputs": []
    },
    {
      "cell_type": "code",
      "metadata": {
        "id": "3n_n2p--orW5"
      },
      "source": [
        "# Create Data audit Report for categorical variables\n",
        "def cat_summary(x):\n",
        "    Mode = x.value_counts().sort_values(ascending = False)[0:1].reset_index()\n",
        "    return pd.Series([x.count(), x.isnull().sum(), Mode.iloc[0, 0], Mode.iloc[0, 1], \n",
        "                          round(Mode.iloc[0, 1] * 100/x.count(), 2)], \n",
        "                  index = ['N', 'NMISS', 'MODE', 'FREQ', 'PERCENT'])"
      ],
      "execution_count": 5,
      "outputs": []
    },
    {
      "cell_type": "code",
      "metadata": {
        "id": "afk9gJxYqK6G"
      },
      "source": [
        "# Function to return key for any value\r\n",
        "def get_key(val, dictionary):\r\n",
        "    for key, value in dictionary.items():\r\n",
        "         if val == value:\r\n",
        "             return key\r\n",
        " \r\n",
        "    raise Exception(\"Song doesn't exist in the database\")"
      ],
      "execution_count": 133,
      "outputs": []
    },
    {
      "cell_type": "markdown",
      "metadata": {
        "id": "OTCuXNkwPou3"
      },
      "source": [
        "#### Recommendation Class for popularity based model"
      ]
    },
    {
      "cell_type": "code",
      "metadata": {
        "id": "R3KnjPr7Plfb"
      },
      "source": [
        "# Class for Popularity based Recommender System model\r\n",
        "class popularity_recommender():\r\n",
        "    def __init__(self):\r\n",
        "        self.train_data = None\r\n",
        "        self.user_id = None\r\n",
        "        self.item_id = None\r\n",
        "        self.popularity_recommendations = None\r\n",
        "        \r\n",
        "    # Create the popularity based recommender system model\r\n",
        "    def create(self, train_data, user_id, item_id):\r\n",
        "        self.train_data = train_data\r\n",
        "        self.user_id = user_id\r\n",
        "        self.item_id = item_id\r\n",
        "\r\n",
        "        # Get a count of user_ids for each unique song as recommendation score\r\n",
        "        train_data_grouped = train_data.groupby([self.item_id]).agg({self.user_id: 'count'}).reset_index()\r\n",
        "        train_data_grouped.rename(columns = {'user_id': 'score'},inplace=True)\r\n",
        "    \r\n",
        "        # Sort the songs based upon recommendation score\r\n",
        "        train_data_sort = train_data_grouped.sort_values(['score', self.item_id], ascending = [0,1])\r\n",
        "    \r\n",
        "        # Generate a recommendation rank based upon score\r\n",
        "        train_data_sort['Rank'] = train_data_sort['score'].rank(ascending=0, method='first')\r\n",
        "        \r\n",
        "        # Get the top 10 recommendations\r\n",
        "        self.popularity_recommendations = train_data_sort.head(10)\r\n",
        "\r\n",
        "    # Use the popularity based recommender system model to make recommendations\r\n",
        "    def recommend(self, user_id):    \r\n",
        "        user_recommendations = self.popularity_recommendations\r\n",
        "        \r\n",
        "        # Add user_id column for which the recommendations are being generated\r\n",
        "        user_recommendations['user_id'] = user_id\r\n",
        "    \r\n",
        "        # Bring user_id column to the front\r\n",
        "        cols = user_recommendations.columns.tolist()\r\n",
        "        cols = cols[-1:] + cols[:-1]\r\n",
        "        user_recommendations = user_recommendations[cols]\r\n",
        "        \r\n",
        "        return user_recommendations"
      ],
      "execution_count": 6,
      "outputs": []
    },
    {
      "cell_type": "markdown",
      "metadata": {
        "id": "OJR1RAPdQRDh"
      },
      "source": [
        "#### Useful functions for personalized hybrid recommendation model"
      ]
    },
    {
      "cell_type": "code",
      "metadata": {
        "id": "DYbnDnugQQNG"
      },
      "source": [
        "# Function to create a user dictionary based on their index and number in interaction dataset\r\n",
        "def create_user_dict(interactions):\r\n",
        "  user_id = list(interactions.index)\r\n",
        "  user_dict = {}\r\n",
        "  counter = 0 \r\n",
        "  \r\n",
        "  for i in user_id:\r\n",
        "    user_dict[i] = counter\r\n",
        "    counter += 1\r\n",
        "    \r\n",
        "  new_dict = dict([(value, key) for key, value in user_dict.items()])\r\n",
        "    \r\n",
        "  return new_dict"
      ],
      "execution_count": 7,
      "outputs": []
    },
    {
      "cell_type": "code",
      "metadata": {
        "id": "8sbBs3wOQbPn"
      },
      "source": [
        "# Function to create an item dictionary based on their item_id and item name  \r\n",
        "def create_item_dict(df, id_col, name_col):\r\n",
        "  item_dict ={}\r\n",
        "    \r\n",
        "  for i in range(df.shape[0]):\r\n",
        "    item_dict[(df.loc[i, id_col])] = df.loc[i, name_col]\r\n",
        "        \r\n",
        "  return item_dict"
      ],
      "execution_count": 8,
      "outputs": []
    },
    {
      "cell_type": "code",
      "metadata": {
        "id": "1lsLgzFrQe_N"
      },
      "source": [
        "# Function to produce user recommendations\r\n",
        "def sample_recommendation_user(model, interactions, user_id, user_dict, \r\n",
        "                               item_dict, threshold = 0, nrec_items = 10):\r\n",
        "    n_users, n_items = interactions.shape\r\n",
        "    user_x = user_dict[user_id]\r\n",
        "    scores = pd.Series(model.predict(user_x, np.arange(n_items)))\r\n",
        "    scores.index = interactions.columns\r\n",
        "    scores = list(pd.Series(scores.sort_values(ascending=False).index))\r\n",
        "    \r\n",
        "    known_items = list(pd.Series(interactions.loc[user_id, :] \\\r\n",
        "                                 [interactions.loc[user_id, :] > threshold].index) \\\r\n",
        "\t\t\t\t\t\t\t\t .sort_values(ascending=False))\r\n",
        "    \r\n",
        "    scores = [x for x in scores if x not in known_items]\r\n",
        "    return_score_list = scores[0: nrec_items]\r\n",
        "    known_items = list(pd.Series(known_items).apply(lambda x: item_dict[x]))\r\n",
        "    scores = list(pd.Series(return_score_list).apply(lambda x: item_dict[x]))\r\n",
        "    \r\n",
        "    print(\"Recommended songs for UserID:\", user_id)\r\n",
        "    counter = 1\r\n",
        "\r\n",
        "    for i in scores:\r\n",
        "        print(str(counter) + '- ' + i)\r\n",
        "        counter+=1"
      ],
      "execution_count": 111,
      "outputs": []
    },
    {
      "cell_type": "code",
      "metadata": {
        "id": "2cv6xpKTQhsC"
      },
      "source": [
        "# Function to create item-item distance embedding matrix\r\n",
        "def create_item_emdedding_distance_matrix(model, interactions):\r\n",
        "    \r\n",
        "    df_item_norm_sparse = sp.csr_matrix(model.item_embeddings)\r\n",
        "    similarities = pw.cosine_similarity(df_item_norm_sparse)\r\n",
        "    item_emdedding_distance_matrix = pd.DataFrame(similarities)\r\n",
        "    item_emdedding_distance_matrix.columns = interactions.columns\r\n",
        "    item_emdedding_distance_matrix.index = interactions.columns\r\n",
        "    \r\n",
        "    return item_emdedding_distance_matrix"
      ],
      "execution_count": 10,
      "outputs": []
    },
    {
      "cell_type": "code",
      "metadata": {
        "id": "d48nez6SQj4v"
      },
      "source": [
        "# Function to create item-item recommendation\r\n",
        "def item_item_recommendation(item_emdedding_distance_matrix, item_id, item_dict, n_items = 10):\r\n",
        "    \r\n",
        "    recommended_items = list(pd.Series(item_emdedding_distance_matrix.loc[item_id,:]. \\\r\n",
        "                                  sort_values(ascending = False).head(n_items+1). \\\r\n",
        "                                  index[1:n_items+1]))\r\n",
        "    \r\n",
        "    print(\"Song of interest: {0}\".format(item_dict[item_id]))\r\n",
        "    print(\"Song(s) similar to the above item are as follows:-\")\r\n",
        "    counter = 1\r\n",
        "    \r\n",
        "    for i in recommended_items:\r\n",
        "        print(str(counter) + '. ' +  item_dict[i])\r\n",
        "        counter+=1"
      ],
      "execution_count": 114,
      "outputs": []
    },
    {
      "cell_type": "markdown",
      "metadata": {
        "id": "3vkfzvvOQ4TN"
      },
      "source": [
        "## Data Import & Inspection"
      ]
    },
    {
      "cell_type": "code",
      "metadata": {
        "id": "XHd_pbpvQkXu"
      },
      "source": [
        "triplets = 'https://static.turi.com/datasets/millionsong/10000.txt'\r\n",
        "songsData = 'https://static.turi.com/datasets/millionsong/song_data.csv'"
      ],
      "execution_count": 12,
      "outputs": []
    },
    {
      "cell_type": "code",
      "metadata": {
        "id": "baKZzeawQ9iw"
      },
      "source": [
        "rawData1 = pd.read_table(triplets, header=None)\r\n",
        "rawData1.columns = ['user_id', 'song_id', 'listen_count']\r\n",
        "rawData2 =  pd.read_csv(songsData)"
      ],
      "execution_count": 13,
      "outputs": []
    },
    {
      "cell_type": "code",
      "metadata": {
        "id": "McV-rSzMQ-C4"
      },
      "source": [
        "# Create a new copy of the triplets dataset & change user_ids\r\n",
        "# from string format to indexed values for easier computations\r\n",
        "rawData1_userIndexed = rawData1.copy()\r\n",
        "rawData1_userIndexed.user_id = rawData1.index + 1"
      ],
      "execution_count": 14,
      "outputs": []
    },
    {
      "cell_type": "code",
      "metadata": {
        "id": "qn_pW2MIRPWB"
      },
      "source": [
        "# Merge the triplets data (user indexed) with songs data\r\n",
        "rawData = pd.merge(rawData1_userIndexed, rawData2.drop_duplicates(['song_id']), on=\"song_id\", how=\"left\")"
      ],
      "execution_count": 15,
      "outputs": []
    },
    {
      "cell_type": "code",
      "metadata": {
        "id": "08U3n1EQTUjj"
      },
      "source": [
        "# Create a subset of top fifty thousand observations to work with, \r\n",
        "# as the entire dataset is TOO expensive to compute on!!!\r\n",
        "data = rawData.head(50000).copy()"
      ],
      "execution_count": 16,
      "outputs": []
    },
    {
      "cell_type": "code",
      "metadata": {
        "id": "6T2QdXbIR6Et"
      },
      "source": [
        "data.info()"
      ],
      "execution_count": null,
      "outputs": []
    },
    {
      "cell_type": "code",
      "metadata": {
        "id": "BxroaKWERPvK"
      },
      "source": [
        "data.head()"
      ],
      "execution_count": null,
      "outputs": []
    },
    {
      "cell_type": "code",
      "metadata": {
        "id": "acNL3NfaR4LW"
      },
      "source": [
        "data.tail()"
      ],
      "execution_count": null,
      "outputs": []
    },
    {
      "cell_type": "code",
      "metadata": {
        "id": "YZPt43hFR5Xn"
      },
      "source": [
        "data.describe(include='all')"
      ],
      "execution_count": null,
      "outputs": []
    },
    {
      "cell_type": "code",
      "metadata": {
        "id": "X6Q9LtmOSYVP"
      },
      "source": [
        "data.select_dtypes(include='int64').apply(cont_summary)"
      ],
      "execution_count": null,
      "outputs": []
    },
    {
      "cell_type": "code",
      "metadata": {
        "id": "CAPvoY4VTA0I"
      },
      "source": [
        "data.select_dtypes(include='object').apply(cat_summary)"
      ],
      "execution_count": null,
      "outputs": []
    },
    {
      "cell_type": "markdown",
      "metadata": {
        "id": "6dz1018WUqWI"
      },
      "source": [
        "## EDA"
      ]
    },
    {
      "cell_type": "code",
      "metadata": {
        "id": "AKcPFphZTD16"
      },
      "source": [
        "grp_title = rawData.groupby(['title']).agg({'listen_count': 'count'}).reset_index()\r\n",
        "grp_title['percentage'] = rawData['listen_count'].div(rawData.listen_count.sum()) * 100"
      ],
      "execution_count": 23,
      "outputs": []
    },
    {
      "cell_type": "code",
      "metadata": {
        "id": "p4t-Ia7HW-AB"
      },
      "source": [
        "grp_title.sort_values(by=['listen_count']).head(10)"
      ],
      "execution_count": null,
      "outputs": []
    },
    {
      "cell_type": "code",
      "metadata": {
        "id": "FXr6v0aJUukM"
      },
      "source": [
        "grp_title.sort_values(by=['listen_count'], ascending=False).head(10)"
      ],
      "execution_count": null,
      "outputs": []
    },
    {
      "cell_type": "code",
      "metadata": {
        "id": "tiNceiqHUwV_"
      },
      "source": [
        "plt.figure(figsize=(8, 5), dpi=110)\r\n",
        "sns.histplot(data=grp_title, x='listen_count', bins=100)\r\n",
        "plt.show()"
      ],
      "execution_count": null,
      "outputs": []
    },
    {
      "cell_type": "markdown",
      "metadata": {
        "id": "hA9zmkb0XS-F"
      },
      "source": [
        "## Recommedations"
      ]
    },
    {
      "cell_type": "code",
      "metadata": {
        "id": "PVO8nQ2rU5qi"
      },
      "source": [
        "users = data['user_id'].unique()"
      ],
      "execution_count": 17,
      "outputs": []
    },
    {
      "cell_type": "code",
      "metadata": {
        "id": "MiCNBv1lYYq9"
      },
      "source": [
        "id = int(input('Enter the ID of a user to get their song recommendations: '))"
      ],
      "execution_count": null,
      "outputs": []
    },
    {
      "cell_type": "code",
      "metadata": {
        "id": "rWOEy72_qwyP"
      },
      "source": [
        "song = input('Enter a song to get similar recommendations: ')\r\n",
        "songID = get_key(song, songDict)"
      ],
      "execution_count": null,
      "outputs": []
    },
    {
      "cell_type": "markdown",
      "metadata": {
        "id": "q5vCe-CzZa5h"
      },
      "source": [
        "#### Interaction Matrix"
      ]
    },
    {
      "cell_type": "code",
      "metadata": {
        "id": "ok5EzQdoXzV1"
      },
      "source": [
        "# Create a pivot table (interaction matrix) from the original dataset\r\n",
        "x = data.pivot_table(index='user_id', columns='song_id', values='listen_count')"
      ],
      "execution_count": 18,
      "outputs": []
    },
    {
      "cell_type": "code",
      "metadata": {
        "id": "up5tVmB8aupM"
      },
      "source": [
        "xNan = x.fillna(0)"
      ],
      "execution_count": 19,
      "outputs": []
    },
    {
      "cell_type": "code",
      "metadata": {
        "id": "_fZuO_C1aubF"
      },
      "source": [
        "interaction = sp.csr_matrix(xNan.values)"
      ],
      "execution_count": 20,
      "outputs": []
    },
    {
      "cell_type": "markdown",
      "metadata": {
        "id": "mIRjoq2IXhuf"
      },
      "source": [
        "#### Popularity Model"
      ]
    },
    {
      "cell_type": "code",
      "metadata": {
        "id": "ifzd8UUkXZap"
      },
      "source": [
        "popModel = popularity_recommender()"
      ],
      "execution_count": 103,
      "outputs": []
    },
    {
      "cell_type": "code",
      "metadata": {
        "id": "FGbT8oJ5Xn5h"
      },
      "source": [
        "# Popularity based recommendations by title\r\n",
        "popModel.create(data, 'user_id', 'title')\r\n",
        "popModel.recommend(users[id-1])"
      ],
      "execution_count": null,
      "outputs": []
    },
    {
      "cell_type": "code",
      "metadata": {
        "id": "z3Dgv8a-XpfI"
      },
      "source": [
        "# Popularity based recommendations by artists\r\n",
        "popModel.create(data, 'user_id', 'artist_name')\r\n",
        "popModel.recommend(users[id-1])"
      ],
      "execution_count": null,
      "outputs": []
    },
    {
      "cell_type": "markdown",
      "metadata": {
        "id": "vtBbZMzcbpLY"
      },
      "source": [
        "#### Personalized Hybrid Model"
      ]
    },
    {
      "cell_type": "code",
      "metadata": {
        "id": "xHtkpCUrbDDi"
      },
      "source": [
        "hybridModel = LightFM(loss='warp-kos', n=20, k=20, learning_schedule='adadelta')\r\n",
        "hybridModel.fit(interaction, epochs=600, num_threads=512)"
      ],
      "execution_count": null,
      "outputs": []
    },
    {
      "cell_type": "code",
      "metadata": {
        "id": "HpEknOgmbt5O"
      },
      "source": [
        "precision_at_k(hybridModel, interaction).mean().round(4) * 100"
      ],
      "execution_count": null,
      "outputs": []
    },
    {
      "cell_type": "code",
      "metadata": {
        "id": "LWOoj3tDb8Aw"
      },
      "source": [
        "recall_at_k(hybridModel, interaction).mean().round(4) * 100"
      ],
      "execution_count": null,
      "outputs": []
    },
    {
      "cell_type": "code",
      "metadata": {
        "id": "HP_54MN1b90w"
      },
      "source": [
        "auc_score(hybridModel, interaction).mean().round(4) * 100"
      ],
      "execution_count": null,
      "outputs": []
    },
    {
      "cell_type": "code",
      "metadata": {
        "id": "Fxek2OPUb_QU"
      },
      "source": [
        "reciprocal_rank(hybridModel, interaction).mean().round(4) * 100"
      ],
      "execution_count": null,
      "outputs": []
    },
    {
      "cell_type": "markdown",
      "metadata": {
        "id": "xR7btmyre6CY"
      },
      "source": [
        "#### Personal Recommendations"
      ]
    },
    {
      "cell_type": "code",
      "metadata": {
        "id": "FGKJQlapea8T"
      },
      "source": [
        "# Creating user dictionary based on their index and number in the interaction matrix using recsys library\r\n",
        "userDict = create_user_dict(interactions=x)"
      ],
      "execution_count": 143,
      "outputs": []
    },
    {
      "cell_type": "code",
      "metadata": {
        "id": "pTIJ_GgUfRJ2"
      },
      "source": [
        "# Creating a song dictionary based on their songID and artist name\r\n",
        "songDict = create_item_dict(df=rawData, id_col='song_id', name_col='title')"
      ],
      "execution_count": 144,
      "outputs": []
    },
    {
      "cell_type": "code",
      "metadata": {
        "id": "_RSEGYX9fT4k"
      },
      "source": [
        "# Recommend songs using lightfm library\r\n",
        "sample_recommendation_user(model=hybridModel, interactions=x, user_id=id, \r\n",
        "                           user_dict=userDict, item_dict=songDict, threshold=5, nrec_items=10)"
      ],
      "execution_count": null,
      "outputs": []
    },
    {
      "cell_type": "code",
      "metadata": {
        "id": "NcsSVWgKfVqV"
      },
      "source": [
        "# Recommend songs similar to a given songID\r\n",
        "songItemDist = create_item_emdedding_distance_matrix(model=hybridModel, interactions=x)\r\n",
        "item_item_recommendation(item_emdedding_distance_matrix=songItemDist, item_id=songID,\r\n",
        "                                    item_dict=songDict, n_items=10)"
      ],
      "execution_count": null,
      "outputs": []
    }
  ]
}